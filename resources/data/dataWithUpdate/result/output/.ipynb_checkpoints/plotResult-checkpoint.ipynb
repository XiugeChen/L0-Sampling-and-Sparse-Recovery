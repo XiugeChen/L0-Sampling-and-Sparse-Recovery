{
 "cells": [
  {
   "cell_type": "code",
   "execution_count": 1,
   "metadata": {},
   "outputs": [],
   "source": [
    "%matplotlib inline\n",
    "import matplotlib.pyplot as plt\n",
    "import pandas as pd"
   ]
  },
  {
   "cell_type": "code",
   "execution_count": 2,
   "metadata": {},
   "outputs": [],
   "source": [
    "File = \"./output.txt\"\n",
    "\n",
    "COL = 2\n",
    "X = [\"1*10^3\",\"5*10^3\"] #,\"1*10^4\",\"5*10^4\",\"1*10^5\", \"5*10^5\"]"
   ]
  },
  {
   "cell_type": "code",
   "execution_count": 9,
   "metadata": {},
   "outputs": [],
   "source": [
    "def draw(distribution):\n",
    "    fp = open(File, \"r\")\n",
    "    \n",
    "    insertionOnly_avg_dev = []\n",
    "    general_avg_dev = []\n",
    "    turnstile_avg_dev = []\n",
    "    pairwise_avg_dev = []\n",
    "    baseline1_avg_dev = []\n",
    "    \n",
    "    insertionOnly_percent_dev = []\n",
    "    general_percent_dev = []\n",
    "    turnstile_percent_dev = []\n",
    "    pairwise_percent_dev = []\n",
    "    baseline1_percent_dev = []\n",
    "    \n",
    "    file = \"\"\n",
    "    \n",
    "    # obtain results\n",
    "    for line in fp:\n",
    "        # line contain file information\n",
    "        if \"####file\" in line:\n",
    "            file = line\n",
    "            continue\n",
    "            \n",
    "        if distribution not in file:\n",
    "            continue\n",
    "            \n",
    "        data = line.split(',')\n",
    "        \n",
    "        # parse data \n",
    "        if \"avg_dev\" in line:\n",
    "            insertionOnly_avg_dev.append(float(data[1].split(':')[1]))\n",
    "            general_avg_dev.append(float(data[2].split(':')[1]))\n",
    "            turnstile_avg_dev.append(float(data[3].split(':')[1]))\n",
    "            pairwise_avg_dev.append(float(data[4].split(':')[1]))\n",
    "            baseline1_avg_dev.append(float(data[5].split(':')[1]))\n",
    "        elif \"percentile_dev\" in line:\n",
    "            insertionOnly_percent_dev.append(float(data[1].split(':')[1]))\n",
    "            general_percent_dev.append(float(data[2].split(':')[1]))\n",
    "            turnstile_percent_dev.append(float(data[3].split(':')[1]))\n",
    "            pairwise_percent_dev.append(float(data[4].split(':')[1]))\n",
    "            baseline1_percent_dev.append(float(data[5].split(':')[1]))\n",
    "    \n",
    "    avg_dev = [insertionOnly_avg_dev, general_avg_dev, turnstile_avg_dev, pairwise_avg_dev, baseline1_avg_dev]\n",
    "    percent_dev = [insertionOnly_percent_dev, general_percent_dev, turnstile_percent_dev, pairwise_percent_dev, baseline1_percent_dev]\n",
    "    \n",
    "    # start drawing\n",
    "    plot(avg_dev, 1)\n",
    "    #plt.legend(loc='upper right')\n",
    "    plot(percent_dev, 2)\n",
    "    \n",
    "    #plot(default_median_data, 2)\n",
    "    #plot(conser_median_data, 5)\n",
    "    #plot(morris_median_data, 8)\n",
    "    \n",
    "    plt.show()"
   ]
  },
  {
   "cell_type": "code",
   "execution_count": 10,
   "metadata": {},
   "outputs": [],
   "source": [
    "def plot(data, index):\n",
    "    plt.subplot(1, 2, index)\n",
    "    \n",
    "    df = pd.DataFrame({'x':X, 'insertionOnly':data[0], 'general':data[1], 'turnstile':data[2],\n",
    "        'pairwise':data[4], 'baseline':data[5] })\n",
    "    \n",
    "    plt.plot('x', 'insertionOnly', data=df, linewidth=1)\n",
    "    plt.plot('x', 'general', data=df, linewidth=1)\n",
    "    plt.plot('x', 'turnstile', data=df, linewidth=1)\n",
    "    plt.plot('x', 'pairwise', data=df, linewidth=1)\n",
    "    plt.plot('x', 'baseline', data=df, linewidth=1)"
   ]
  },
  {
   "cell_type": "code",
   "execution_count": 8,
   "metadata": {},
   "outputs": [
    {
     "name": "stdout",
     "output_type": "stream",
     "text": [
      "avg_dev,insertionOnly:0.0323,general:0.0238,turnstile:0.021400000000000006,pairwise:0.026200000000000005,baseline1:0.022000000000000002\n",
      "\n"
     ]
    },
    {
     "ename": "IndexError",
     "evalue": "list index out of range",
     "output_type": "error",
     "traceback": [
      "\u001b[0;31m---------------------------------------------------------------------------\u001b[0m",
      "\u001b[0;31mIndexError\u001b[0m                                Traceback (most recent call last)",
      "\u001b[0;32m<ipython-input-8-f8686c402538>\u001b[0m in \u001b[0;36m<module>\u001b[0;34m\u001b[0m\n\u001b[1;32m      1\u001b[0m \u001b[0;31m#draw(\"insertionOnly\")\u001b[0m\u001b[0;34m\u001b[0m\u001b[0;34m\u001b[0m\u001b[0;34m\u001b[0m\u001b[0m\n\u001b[1;32m      2\u001b[0m \u001b[0;31m#draw(\"turnstile\")\u001b[0m\u001b[0;34m\u001b[0m\u001b[0;34m\u001b[0m\u001b[0;34m\u001b[0m\u001b[0m\n\u001b[0;32m----> 3\u001b[0;31m \u001b[0mdraw\u001b[0m\u001b[0;34m(\u001b[0m\u001b[0;34m\"general\"\u001b[0m\u001b[0;34m)\u001b[0m\u001b[0;34m\u001b[0m\u001b[0;34m\u001b[0m\u001b[0m\n\u001b[0m",
      "\u001b[0;32m<ipython-input-6-129f9ec5919e>\u001b[0m in \u001b[0;36mdraw\u001b[0;34m(distribution)\u001b[0m\n\u001b[1;32m     32\u001b[0m             \u001b[0mprint\u001b[0m\u001b[0;34m(\u001b[0m\u001b[0mline\u001b[0m\u001b[0;34m)\u001b[0m\u001b[0;34m\u001b[0m\u001b[0;34m\u001b[0m\u001b[0m\n\u001b[1;32m     33\u001b[0m             \u001b[0minsertionOnly_avg_dev\u001b[0m\u001b[0;34m.\u001b[0m\u001b[0mappend\u001b[0m\u001b[0;34m(\u001b[0m\u001b[0mfloat\u001b[0m\u001b[0;34m(\u001b[0m\u001b[0mdata\u001b[0m\u001b[0;34m[\u001b[0m\u001b[0;36m1\u001b[0m\u001b[0;34m]\u001b[0m\u001b[0;34m.\u001b[0m\u001b[0msplit\u001b[0m\u001b[0;34m(\u001b[0m\u001b[0;34m':'\u001b[0m\u001b[0;34m)\u001b[0m\u001b[0;34m[\u001b[0m\u001b[0;36m1\u001b[0m\u001b[0;34m]\u001b[0m\u001b[0;34m)\u001b[0m\u001b[0;34m)\u001b[0m\u001b[0;34m\u001b[0m\u001b[0;34m\u001b[0m\u001b[0m\n\u001b[0;32m---> 34\u001b[0;31m             \u001b[0mgeneral_avg_dev\u001b[0m\u001b[0;34m.\u001b[0m\u001b[0mappend\u001b[0m\u001b[0;34m(\u001b[0m\u001b[0mfloat\u001b[0m\u001b[0;34m(\u001b[0m\u001b[0mdata\u001b[0m\u001b[0;34m[\u001b[0m\u001b[0;36m1\u001b[0m\u001b[0;34m]\u001b[0m\u001b[0;34m.\u001b[0m\u001b[0msplit\u001b[0m\u001b[0;34m(\u001b[0m\u001b[0;34m':'\u001b[0m\u001b[0;34m)\u001b[0m\u001b[0;34m[\u001b[0m\u001b[0;36m2\u001b[0m\u001b[0;34m]\u001b[0m\u001b[0;34m)\u001b[0m\u001b[0;34m)\u001b[0m\u001b[0;34m\u001b[0m\u001b[0;34m\u001b[0m\u001b[0m\n\u001b[0m\u001b[1;32m     35\u001b[0m             \u001b[0mturnstile_avg_dev\u001b[0m\u001b[0;34m.\u001b[0m\u001b[0mappend\u001b[0m\u001b[0;34m(\u001b[0m\u001b[0mfloat\u001b[0m\u001b[0;34m(\u001b[0m\u001b[0mdata\u001b[0m\u001b[0;34m[\u001b[0m\u001b[0;36m1\u001b[0m\u001b[0;34m]\u001b[0m\u001b[0;34m.\u001b[0m\u001b[0msplit\u001b[0m\u001b[0;34m(\u001b[0m\u001b[0;34m':'\u001b[0m\u001b[0;34m)\u001b[0m\u001b[0;34m[\u001b[0m\u001b[0;36m3\u001b[0m\u001b[0;34m]\u001b[0m\u001b[0;34m)\u001b[0m\u001b[0;34m)\u001b[0m\u001b[0;34m\u001b[0m\u001b[0;34m\u001b[0m\u001b[0m\n\u001b[1;32m     36\u001b[0m             \u001b[0mpairwise_avg_dev\u001b[0m\u001b[0;34m.\u001b[0m\u001b[0mappend\u001b[0m\u001b[0;34m(\u001b[0m\u001b[0mfloat\u001b[0m\u001b[0;34m(\u001b[0m\u001b[0mdata\u001b[0m\u001b[0;34m[\u001b[0m\u001b[0;36m1\u001b[0m\u001b[0;34m]\u001b[0m\u001b[0;34m.\u001b[0m\u001b[0msplit\u001b[0m\u001b[0;34m(\u001b[0m\u001b[0;34m':'\u001b[0m\u001b[0;34m)\u001b[0m\u001b[0;34m[\u001b[0m\u001b[0;36m4\u001b[0m\u001b[0;34m]\u001b[0m\u001b[0;34m)\u001b[0m\u001b[0;34m)\u001b[0m\u001b[0;34m\u001b[0m\u001b[0;34m\u001b[0m\u001b[0m\n",
      "\u001b[0;31mIndexError\u001b[0m: list index out of range"
     ]
    }
   ],
   "source": [
    "#draw(\"insertionOnly\")\n",
    "#draw(\"turnstile\")\n",
    "draw(\"general\")"
   ]
  },
  {
   "cell_type": "code",
   "execution_count": null,
   "metadata": {},
   "outputs": [],
   "source": []
  }
 ],
 "metadata": {
  "kernelspec": {
   "display_name": "Python 3",
   "language": "python",
   "name": "python3"
  },
  "language_info": {
   "codemirror_mode": {
    "name": "ipython",
    "version": 3
   },
   "file_extension": ".py",
   "mimetype": "text/x-python",
   "name": "python",
   "nbconvert_exporter": "python",
   "pygments_lexer": "ipython3",
   "version": "3.7.2"
  }
 },
 "nbformat": 4,
 "nbformat_minor": 2
}
